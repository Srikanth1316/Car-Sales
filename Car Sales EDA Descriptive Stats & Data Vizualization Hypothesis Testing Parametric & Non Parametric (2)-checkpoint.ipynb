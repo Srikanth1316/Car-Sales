{
 "cells": [
  {
   "cell_type": "code",
   "execution_count": 5,
   "id": "0644088c",
   "metadata": {},
   "outputs": [],
   "source": [
    "import pandas as pd\n",
    "import numpy as np\n",
    "import matplotlib.pyplot as plt\n",
    "%matplotlib inline"
   ]
  },
  {
   "cell_type": "code",
   "execution_count": 6,
   "id": "0833ec1a",
   "metadata": {},
   "outputs": [
    {
     "name": "stdout",
     "output_type": "stream",
     "text": [
      "C:\\Users\\DELL\\OneDrive\\Desktop\\Usedcarsales\n"
     ]
    }
   ],
   "source": [
    "import io\n",
    "%cd \"C:\\Users\\DELL\\OneDrive\\Desktop\\Usedcarsales\""
   ]
  },
  {
   "cell_type": "code",
   "execution_count": 7,
   "id": "37cd2b3f",
   "metadata": {},
   "outputs": [],
   "source": [
    "carsales=pd.read_csv(\"usedcarsales.csv\")"
   ]
  },
  {
   "cell_type": "code",
   "execution_count": 8,
   "id": "44429616",
   "metadata": {},
   "outputs": [
    {
     "name": "stdout",
     "output_type": "stream",
     "text": [
      "<class 'pandas.core.frame.DataFrame'>\n",
      "RangeIndex: 1436 entries, 0 to 1435\n",
      "Data columns (total 13 columns):\n",
      " #   Column        Non-Null Count  Dtype \n",
      "---  ------        --------------  ----- \n",
      " 0   Unnamed: 0    1436 non-null   int64 \n",
      " 1   Price         1436 non-null   int64 \n",
      " 2   Age           1436 non-null   int64 \n",
      " 3   KM            1436 non-null   int64 \n",
      " 4   FuelType      1436 non-null   object\n",
      " 5   HP            1436 non-null   int64 \n",
      " 6   MetColor      1436 non-null   int64 \n",
      " 7   Automatic     1436 non-null   int64 \n",
      " 8   CC            1436 non-null   int64 \n",
      " 9   Doors         1436 non-null   int64 \n",
      " 10  Weight        1436 non-null   int64 \n",
      " 11  AutoType      1436 non-null   object\n",
      " 12  MetColorType  1436 non-null   object\n",
      "dtypes: int64(10), object(3)\n",
      "memory usage: 146.0+ KB\n"
     ]
    }
   ],
   "source": [
    "carsales.info() # Information related to Dataset"
   ]
  },
  {
   "cell_type": "code",
   "execution_count": 9,
   "id": "dad1e3d1",
   "metadata": {},
   "outputs": [
    {
     "data": {
      "text/html": [
       "<div>\n",
       "<style scoped>\n",
       "    .dataframe tbody tr th:only-of-type {\n",
       "        vertical-align: middle;\n",
       "    }\n",
       "\n",
       "    .dataframe tbody tr th {\n",
       "        vertical-align: top;\n",
       "    }\n",
       "\n",
       "    .dataframe thead th {\n",
       "        text-align: right;\n",
       "    }\n",
       "</style>\n",
       "<table border=\"1\" class=\"dataframe\">\n",
       "  <thead>\n",
       "    <tr style=\"text-align: right;\">\n",
       "      <th></th>\n",
       "      <th>Unnamed: 0</th>\n",
       "      <th>Price</th>\n",
       "      <th>Age</th>\n",
       "      <th>KM</th>\n",
       "      <th>FuelType</th>\n",
       "      <th>HP</th>\n",
       "      <th>MetColor</th>\n",
       "      <th>Automatic</th>\n",
       "      <th>CC</th>\n",
       "      <th>Doors</th>\n",
       "      <th>Weight</th>\n",
       "      <th>AutoType</th>\n",
       "      <th>MetColorType</th>\n",
       "    </tr>\n",
       "  </thead>\n",
       "  <tbody>\n",
       "    <tr>\n",
       "      <th>0</th>\n",
       "      <td>1</td>\n",
       "      <td>13500</td>\n",
       "      <td>23</td>\n",
       "      <td>46986</td>\n",
       "      <td>Diesel</td>\n",
       "      <td>90</td>\n",
       "      <td>1</td>\n",
       "      <td>0</td>\n",
       "      <td>2000</td>\n",
       "      <td>3</td>\n",
       "      <td>1165</td>\n",
       "      <td>Manual</td>\n",
       "      <td>Metcolor</td>\n",
       "    </tr>\n",
       "    <tr>\n",
       "      <th>1</th>\n",
       "      <td>2</td>\n",
       "      <td>13750</td>\n",
       "      <td>23</td>\n",
       "      <td>72937</td>\n",
       "      <td>Diesel</td>\n",
       "      <td>90</td>\n",
       "      <td>1</td>\n",
       "      <td>0</td>\n",
       "      <td>2000</td>\n",
       "      <td>3</td>\n",
       "      <td>1165</td>\n",
       "      <td>Manual</td>\n",
       "      <td>Metcolor</td>\n",
       "    </tr>\n",
       "    <tr>\n",
       "      <th>2</th>\n",
       "      <td>3</td>\n",
       "      <td>13950</td>\n",
       "      <td>24</td>\n",
       "      <td>41711</td>\n",
       "      <td>Diesel</td>\n",
       "      <td>90</td>\n",
       "      <td>1</td>\n",
       "      <td>0</td>\n",
       "      <td>2000</td>\n",
       "      <td>3</td>\n",
       "      <td>1165</td>\n",
       "      <td>Manual</td>\n",
       "      <td>Metcolor</td>\n",
       "    </tr>\n",
       "    <tr>\n",
       "      <th>3</th>\n",
       "      <td>4</td>\n",
       "      <td>14950</td>\n",
       "      <td>26</td>\n",
       "      <td>48000</td>\n",
       "      <td>Diesel</td>\n",
       "      <td>90</td>\n",
       "      <td>0</td>\n",
       "      <td>0</td>\n",
       "      <td>2000</td>\n",
       "      <td>3</td>\n",
       "      <td>1165</td>\n",
       "      <td>Manual</td>\n",
       "      <td>NonMetcolor</td>\n",
       "    </tr>\n",
       "    <tr>\n",
       "      <th>4</th>\n",
       "      <td>5</td>\n",
       "      <td>13750</td>\n",
       "      <td>30</td>\n",
       "      <td>38500</td>\n",
       "      <td>Diesel</td>\n",
       "      <td>90</td>\n",
       "      <td>0</td>\n",
       "      <td>0</td>\n",
       "      <td>2000</td>\n",
       "      <td>3</td>\n",
       "      <td>1170</td>\n",
       "      <td>Manual</td>\n",
       "      <td>NonMetcolor</td>\n",
       "    </tr>\n",
       "  </tbody>\n",
       "</table>\n",
       "</div>"
      ],
      "text/plain": [
       "   Unnamed: 0  Price  Age     KM FuelType  HP  MetColor  Automatic    CC  \\\n",
       "0           1  13500   23  46986   Diesel  90         1          0  2000   \n",
       "1           2  13750   23  72937   Diesel  90         1          0  2000   \n",
       "2           3  13950   24  41711   Diesel  90         1          0  2000   \n",
       "3           4  14950   26  48000   Diesel  90         0          0  2000   \n",
       "4           5  13750   30  38500   Diesel  90         0          0  2000   \n",
       "\n",
       "   Doors  Weight AutoType MetColorType  \n",
       "0      3    1165   Manual     Metcolor  \n",
       "1      3    1165   Manual     Metcolor  \n",
       "2      3    1165   Manual     Metcolor  \n",
       "3      3    1165   Manual  NonMetcolor  \n",
       "4      3    1170   Manual  NonMetcolor  "
      ]
     },
     "execution_count": 9,
     "metadata": {},
     "output_type": "execute_result"
    }
   ],
   "source": [
    "carsales.head()"
   ]
  },
  {
   "cell_type": "code",
   "execution_count": 10,
   "id": "1f9c0daf",
   "metadata": {},
   "outputs": [
    {
     "data": {
      "text/html": [
       "<div>\n",
       "<style scoped>\n",
       "    .dataframe tbody tr th:only-of-type {\n",
       "        vertical-align: middle;\n",
       "    }\n",
       "\n",
       "    .dataframe tbody tr th {\n",
       "        vertical-align: top;\n",
       "    }\n",
       "\n",
       "    .dataframe thead th {\n",
       "        text-align: right;\n",
       "    }\n",
       "</style>\n",
       "<table border=\"1\" class=\"dataframe\">\n",
       "  <thead>\n",
       "    <tr style=\"text-align: right;\">\n",
       "      <th></th>\n",
       "      <th>Unnamed: 0</th>\n",
       "      <th>Price</th>\n",
       "      <th>Age</th>\n",
       "      <th>KM</th>\n",
       "      <th>FuelType</th>\n",
       "      <th>HP</th>\n",
       "      <th>MetColor</th>\n",
       "      <th>Automatic</th>\n",
       "      <th>CC</th>\n",
       "      <th>Doors</th>\n",
       "      <th>Weight</th>\n",
       "      <th>AutoType</th>\n",
       "      <th>MetColorType</th>\n",
       "    </tr>\n",
       "  </thead>\n",
       "  <tbody>\n",
       "    <tr>\n",
       "      <th>1431</th>\n",
       "      <td>1432</td>\n",
       "      <td>7500</td>\n",
       "      <td>69</td>\n",
       "      <td>20544</td>\n",
       "      <td>Petrol</td>\n",
       "      <td>86</td>\n",
       "      <td>1</td>\n",
       "      <td>0</td>\n",
       "      <td>1300</td>\n",
       "      <td>3</td>\n",
       "      <td>1025</td>\n",
       "      <td>Manual</td>\n",
       "      <td>Metcolor</td>\n",
       "    </tr>\n",
       "    <tr>\n",
       "      <th>1432</th>\n",
       "      <td>1433</td>\n",
       "      <td>10845</td>\n",
       "      <td>72</td>\n",
       "      <td>19000</td>\n",
       "      <td>Petrol</td>\n",
       "      <td>86</td>\n",
       "      <td>0</td>\n",
       "      <td>0</td>\n",
       "      <td>1300</td>\n",
       "      <td>3</td>\n",
       "      <td>1015</td>\n",
       "      <td>Manual</td>\n",
       "      <td>NonMetcolor</td>\n",
       "    </tr>\n",
       "    <tr>\n",
       "      <th>1433</th>\n",
       "      <td>1434</td>\n",
       "      <td>8500</td>\n",
       "      <td>71</td>\n",
       "      <td>17016</td>\n",
       "      <td>Petrol</td>\n",
       "      <td>86</td>\n",
       "      <td>0</td>\n",
       "      <td>0</td>\n",
       "      <td>1300</td>\n",
       "      <td>3</td>\n",
       "      <td>1015</td>\n",
       "      <td>Manual</td>\n",
       "      <td>NonMetcolor</td>\n",
       "    </tr>\n",
       "    <tr>\n",
       "      <th>1434</th>\n",
       "      <td>1435</td>\n",
       "      <td>7250</td>\n",
       "      <td>70</td>\n",
       "      <td>16916</td>\n",
       "      <td>Petrol</td>\n",
       "      <td>86</td>\n",
       "      <td>1</td>\n",
       "      <td>0</td>\n",
       "      <td>1300</td>\n",
       "      <td>3</td>\n",
       "      <td>1015</td>\n",
       "      <td>Manual</td>\n",
       "      <td>Metcolor</td>\n",
       "    </tr>\n",
       "    <tr>\n",
       "      <th>1435</th>\n",
       "      <td>1436</td>\n",
       "      <td>6950</td>\n",
       "      <td>76</td>\n",
       "      <td>1</td>\n",
       "      <td>Petrol</td>\n",
       "      <td>110</td>\n",
       "      <td>0</td>\n",
       "      <td>0</td>\n",
       "      <td>1600</td>\n",
       "      <td>5</td>\n",
       "      <td>1114</td>\n",
       "      <td>Manual</td>\n",
       "      <td>NonMetcolor</td>\n",
       "    </tr>\n",
       "  </tbody>\n",
       "</table>\n",
       "</div>"
      ],
      "text/plain": [
       "      Unnamed: 0  Price  Age     KM FuelType   HP  MetColor  Automatic    CC  \\\n",
       "1431        1432   7500   69  20544   Petrol   86         1          0  1300   \n",
       "1432        1433  10845   72  19000   Petrol   86         0          0  1300   \n",
       "1433        1434   8500   71  17016   Petrol   86         0          0  1300   \n",
       "1434        1435   7250   70  16916   Petrol   86         1          0  1300   \n",
       "1435        1436   6950   76      1   Petrol  110         0          0  1600   \n",
       "\n",
       "      Doors  Weight AutoType MetColorType  \n",
       "1431      3    1025   Manual     Metcolor  \n",
       "1432      3    1015   Manual  NonMetcolor  \n",
       "1433      3    1015   Manual  NonMetcolor  \n",
       "1434      3    1015   Manual     Metcolor  \n",
       "1435      5    1114   Manual  NonMetcolor  "
      ]
     },
     "execution_count": 10,
     "metadata": {},
     "output_type": "execute_result"
    }
   ],
   "source": [
    "carsales.tail()"
   ]
  },
  {
   "cell_type": "code",
   "execution_count": 11,
   "id": "102223ac",
   "metadata": {},
   "outputs": [
    {
     "data": {
      "text/plain": [
       "Index(['Unnamed: 0', 'Price', 'Age', 'KM', 'FuelType', 'HP', 'MetColor',\n",
       "       'Automatic', 'CC', 'Doors', 'Weight', 'AutoType', 'MetColorType'],\n",
       "      dtype='object')"
      ]
     },
     "execution_count": 11,
     "metadata": {},
     "output_type": "execute_result"
    }
   ],
   "source": [
    "carsales.columns\n",
    "# Objective - Build a Machine Learning Model that Predicts Price of\n",
    "# Car based on Age, KM, FuelTYpe,HP,CC,Weight, etc.\n",
    "\n",
    "# Dependent variable(y) - Price\n",
    "# Independent Variables(X) - Age,KM,FuelType,HP,CC,Weight,etc.\n",
    "\n",
    "# Only one Dependent Variable which is being predicted\n",
    "# Multiple Independent Variables used for Prediction"
   ]
  },
  {
   "cell_type": "code",
   "execution_count": 12,
   "id": "c45cfceb",
   "metadata": {},
   "outputs": [
    {
     "data": {
      "text/plain": [
       "0    13500\n",
       "1    13750\n",
       "2    13950\n",
       "3    14950\n",
       "4    13750\n",
       "Name: Price, dtype: int64"
      ]
     },
     "execution_count": 12,
     "metadata": {},
     "output_type": "execute_result"
    }
   ],
   "source": [
    "# head of Price coulmn only\n",
    "carsales.Price.head()"
   ]
  },
  {
   "cell_type": "code",
   "execution_count": 13,
   "id": "8b3017c8",
   "metadata": {},
   "outputs": [
    {
     "data": {
      "text/plain": [
       "count     1436.000000\n",
       "mean     10730.824513\n",
       "std       3626.964585\n",
       "min       4350.000000\n",
       "25%       8450.000000\n",
       "50%       9900.000000\n",
       "75%      11950.000000\n",
       "max      32500.000000\n",
       "Name: Price, dtype: float64"
      ]
     },
     "execution_count": 13,
     "metadata": {},
     "output_type": "execute_result"
    }
   ],
   "source": [
    "carsales.Price.describe() # Descriptive Statistics"
   ]
  },
  {
   "cell_type": "code",
   "execution_count": 14,
   "id": "a490ac2e",
   "metadata": {},
   "outputs": [
    {
     "name": "stdout",
     "output_type": "stream",
     "text": [
      "Skewness 1.7038849799952995\n",
      "kurtosis 3.737781189982718\n"
     ]
    }
   ],
   "source": [
    "print(\"Skewness\",carsales.Price.skew())\n",
    "print(\"kurtosis\",carsales.Price.kurt())"
   ]
  },
  {
   "cell_type": "code",
   "execution_count": 15,
   "id": "4729284c",
   "metadata": {},
   "outputs": [
    {
     "name": "stdout",
     "output_type": "stream",
     "text": [
      "count    1436.000000\n",
      "mean       55.947075\n",
      "std        18.599988\n",
      "min         1.000000\n",
      "25%        44.000000\n",
      "50%        61.000000\n",
      "75%        70.000000\n",
      "max        80.000000\n",
      "Name: Age, dtype: float64\n",
      "Skewness -0.82670187309842\n",
      "kurtosis -0.0766324777459908\n"
     ]
    }
   ],
   "source": [
    "# Descriptive Statistics - Numeric Variable - Univariate Statistics\n",
    "print(carsales.Age.describe())\n",
    "print(\"Skewness\",carsales.Age.skew())\n",
    "print(\"kurtosis\",carsales.Age.kurt())"
   ]
  },
  {
   "cell_type": "code",
   "execution_count": 16,
   "id": "87ba1517",
   "metadata": {},
   "outputs": [],
   "source": [
    "# Exploratory Data Analysis - Data Vizualization\n",
    "# Plots like Line plot, Bar Chart(vertical/horizontal), Pie Chart, etc\n",
    "\n",
    "# Most important Univariate Plots in Machine Learning are\n",
    "# 1) Histogram, 2) Boxplot and 3) Density Curve \n",
    "\n",
    "# Histogram is bar chart of Frequency Distribution Table. Frequency\n",
    "# Distribution Table has 2 Columns - \n",
    "# Class Interval(Lower Limit - Upper Limit) - Frequency\n",
    "# Histogram identifies skewness, kurtosis and Outliers\n",
    "\n",
    "# Boxplot or Box & Whisker Plot is based on quartiles. For creating\n",
    "# Boxplot Q1, Q2, Q3 and Inter Quartile Range(Q3-Q1) is required\n",
    "# Boxplot identifies outliers. Outliers are extreme values that\n",
    "# fall outside normal data range. Outliers determined using below\n",
    "# formulae.\n",
    "# Minimum Side - Q1 - 1.5 X IQR\n",
    "# Maximum Side - Q3 + 1.5 X IQR\n",
    "\n",
    "# Density Curve or Kernel Density Curve - Based on Standard Normal\n",
    "# Distribution Scores. Line Plot of Normal Distibution Scores is \n",
    "# Density Curve. Identifies Skewness and Kurtosis"
   ]
  },
  {
   "cell_type": "code",
   "execution_count": 17,
   "id": "2d9d9b3e",
   "metadata": {},
   "outputs": [
    {
     "data": {
      "text/plain": [
       "<Axes: ylabel='Frequency'>"
      ]
     },
     "execution_count": 17,
     "metadata": {},
     "output_type": "execute_result"
    },
    {
     "data": {
      "image/png": "[encoded data removed]",
      "text/plain": [
       "<Figure size 640x480 with 1 Axes>"
      ]
     },
     "metadata": {},
     "output_type": "display_data"
    }
   ],
   "source": [
    "carsales.Price.plot(kind=\"hist\") # Histogram - Positive Skewness\n",
    "# Positive Kurtosis"
   ]
  },
  {
   "cell_type": "code",
   "execution_count": 18,
   "id": "3093c17e",
   "metadata": {},
   "outputs": [
    {
     "data": {
      "text/plain": [
       "<Axes: >"
      ]
     },
     "execution_count": 18,
     "metadata": {},
     "output_type": "execute_result"
    },
    {
     "data": {
      "image/png": "[encoded data removed]",
      "text/plain": [
       "<Figure size 640x480 with 1 Axes>"
      ]
     },
     "metadata": {},
     "output_type": "display_data"
    }
   ],
   "source": [
    "carsales.Price.plot(kind=\"box\",vert=False) # Boxplot -\n",
    "# Outliers on Maximum Side and Positive Skewness"
   ]
  },
  {
   "cell_type": "code",
   "execution_count": 19,
   "id": "ff939d70",
   "metadata": {},
   "outputs": [
    {
     "data": {
      "text/plain": [
       "<Axes: ylabel='Density'>"
      ]
     },
     "execution_count": 19,
     "metadata": {},
     "output_type": "execute_result"
    },
    {
     "data": {
      "image/png": "[encoded data removed]",
      "text/plain": [
       "<Figure size 640x480 with 1 Axes>"
      ]
     },
     "metadata": {},
     "output_type": "display_data"
    }
   ],
   "source": [
    "carsales.Price.plot(kind=\"density\") # Density Curve\n",
    "# Positive Skewness and Kurtosis"
   ]
  },
  {
   "cell_type": "code",
   "execution_count": 20,
   "id": "b8385454",
   "metadata": {},
   "outputs": [],
   "source": [
    "# seaborn is a vizualization library - sublibrary of matplotlib\n",
    "import seaborn as sns"
   ]
  },
  {
   "cell_type": "code",
   "execution_count": 21,
   "id": "ffde711b",
   "metadata": {},
   "outputs": [],
   "source": [
    "# Ignore warnings that are generated\n",
    "import warnings\n",
    "warnings.filterwarnings(\"ignore\")"
   ]
  },
  {
   "cell_type": "code",
   "execution_count": 22,
   "id": "5da9021a",
   "metadata": {},
   "outputs": [
    {
     "data": {
      "image/png": "[encoded data removed]",
      "text/plain": [
       "<Figure size 640x480 with 3 Axes>"
      ]
     },
     "metadata": {},
     "output_type": "display_data"
    }
   ],
   "source": [
    "fig,ax=plt.subplots(3,1) # Break Plot window into 3 rows & 1 Column\n",
    "sns.histplot(carsales.Price,ax=ax[0]) # Histogram\n",
    "sns.boxplot(carsales.Price,ax=ax[1],orient=\"h\") # Boxplot - Horizontal\n",
    "sns.kdeplot(carsales.Price,ax=ax[2]) # Density Curve\n",
    "plt.show()"
   ]
  },
  {
   "cell_type": "code",
   "execution_count": 23,
   "id": "74739fbb",
   "metadata": {},
   "outputs": [
    {
     "data": {
      "image/png": "[encoded data removed]",
      "text/plain": [
       "<Figure size 640x480 with 3 Axes>"
      ]
     },
     "metadata": {},
     "output_type": "display_data"
    }
   ],
   "source": [
    "fig,ax=plt.subplots(3,1) # Break Plot window into 3 rows & 1 Column\n",
    "sns.histplot(carsales.Age,ax=ax[0]) # Histogram\n",
    "sns.boxplot(carsales.Age,ax=ax[1],orient=\"h\") # Boxplot - Horizontal\n",
    "sns.kdeplot(carsales.Age,ax=ax[2]) # Density Curve\n",
    "plt.show()"
   ]
  },
  {
   "cell_type": "code",
   "execution_count": 24,
   "id": "5183e2c5",
   "metadata": {},
   "outputs": [
    {
     "data": {
      "image/png": "[encoded data removed]",
      "text/plain": [
       "<Figure size 640x480 with 3 Axes>"
      ]
     },
     "metadata": {},
     "output_type": "display_data"
    }
   ],
   "source": [
    "fig,ax=plt.subplots(3,1) # Break Plot window into 3 rows & 1 Column\n",
    "sns.histplot(carsales.KM,ax=ax[0]) # Histogram\n",
    "sns.boxplot(carsales.KM,ax=ax[1],orient=\"h\") # Boxplot - Horizontal\n",
    "sns.kdeplot(carsales.KM,ax=ax[2]) # Density Curve\n",
    "plt.show()"
   ]
  },
  {
   "cell_type": "code",
   "execution_count": 25,
   "id": "22dc9911",
   "metadata": {},
   "outputs": [],
   "source": [
    "# Descriptive Statistics - Non Numeric Data or Object Data\n",
    "# 1) Frequency Counts 2) Cross Tabulations\n",
    "\n",
    "# 1) Frequency Counts - How many times the level/class/group counted\n",
    "# 2) Cross Tabulation Frequency Count of 2 Non Numeric Variables"
   ]
  },
  {
   "cell_type": "code",
   "execution_count": 26,
   "id": "718d5cf2",
   "metadata": {},
   "outputs": [
    {
     "data": {
      "text/plain": [
       "FuelType\n",
       "Petrol    1264\n",
       "Diesel     155\n",
       "CNG         17\n",
       "Name: count, dtype: int64"
      ]
     },
     "execution_count": 26,
     "metadata": {},
     "output_type": "execute_result"
    }
   ],
   "source": [
    "# dfname.columnname.value_counts() - Frequency Counts\n",
    "carsales.FuelType.value_counts()"
   ]
  },
  {
   "cell_type": "code",
   "execution_count": 27,
   "id": "4e0f097b",
   "metadata": {},
   "outputs": [
    {
     "data": {
      "text/plain": [
       "Automatic\n",
       "0    1356\n",
       "1      80\n",
       "Name: count, dtype: int64"
      ]
     },
     "execution_count": 27,
     "metadata": {},
     "output_type": "execute_result"
    }
   ],
   "source": [
    "carsales.Automatic.value_counts() # 0- No & 1- Yes - Binary Encoding"
   ]
  },
  {
   "cell_type": "code",
   "execution_count": 28,
   "id": "05cd853f",
   "metadata": {},
   "outputs": [
    {
     "data": {
      "text/plain": [
       "MetColor\n",
       "1    969\n",
       "0    467\n",
       "Name: count, dtype: int64"
      ]
     },
     "execution_count": 28,
     "metadata": {},
     "output_type": "execute_result"
    }
   ],
   "source": [
    "carsales.MetColor.value_counts() # 0 - No & 1 - Yes - Binary Encoding"
   ]
  },
  {
   "cell_type": "code",
   "execution_count": 29,
   "id": "6d923a25",
   "metadata": {},
   "outputs": [
    {
     "data": {
      "text/html": [
       "<div>\n",
       "<style scoped>\n",
       "    .dataframe tbody tr th:only-of-type {\n",
       "        vertical-align: middle;\n",
       "    }\n",
       "\n",
       "    .dataframe tbody tr th {\n",
       "        vertical-align: top;\n",
       "    }\n",
       "\n",
       "    .dataframe thead th {\n",
       "        text-align: right;\n",
       "    }\n",
       "</style>\n",
       "<table border=\"1\" class=\"dataframe\">\n",
       "  <thead>\n",
       "    <tr style=\"text-align: right;\">\n",
       "      <th>FuelType</th>\n",
       "      <th>CNG</th>\n",
       "      <th>Diesel</th>\n",
       "      <th>Petrol</th>\n",
       "    </tr>\n",
       "    <tr>\n",
       "      <th>Automatic</th>\n",
       "      <th></th>\n",
       "      <th></th>\n",
       "      <th></th>\n",
       "    </tr>\n",
       "  </thead>\n",
       "  <tbody>\n",
       "    <tr>\n",
       "      <th>0</th>\n",
       "      <td>16</td>\n",
       "      <td>155</td>\n",
       "      <td>1185</td>\n",
       "    </tr>\n",
       "    <tr>\n",
       "      <th>1</th>\n",
       "      <td>1</td>\n",
       "      <td>0</td>\n",
       "      <td>79</td>\n",
       "    </tr>\n",
       "  </tbody>\n",
       "</table>\n",
       "</div>"
      ],
      "text/plain": [
       "FuelType   CNG  Diesel  Petrol\n",
       "Automatic                     \n",
       "0           16     155    1185\n",
       "1            1       0      79"
      ]
     },
     "execution_count": 29,
     "metadata": {},
     "output_type": "execute_result"
    }
   ],
   "source": [
    "# Cross Tabulation - pd.crosstab(dfname.colname1,dfname.colname2)\n",
    "\n",
    "# Cross Tab of FuelType and Automatic\n",
    "pd.crosstab(carsales.Automatic,carsales.FuelType)"
   ]
  },
  {
   "cell_type": "code",
   "execution_count": 30,
   "id": "ae7fbf56",
   "metadata": {},
   "outputs": [
    {
     "data": {
      "text/html": [
       "<div>\n",
       "<style scoped>\n",
       "    .dataframe tbody tr th:only-of-type {\n",
       "        vertical-align: middle;\n",
       "    }\n",
       "\n",
       "    .dataframe tbody tr th {\n",
       "        vertical-align: top;\n",
       "    }\n",
       "\n",
       "    .dataframe thead th {\n",
       "        text-align: right;\n",
       "    }\n",
       "</style>\n",
       "<table border=\"1\" class=\"dataframe\">\n",
       "  <thead>\n",
       "    <tr style=\"text-align: right;\">\n",
       "      <th>MetColor</th>\n",
       "      <th>0</th>\n",
       "      <th>1</th>\n",
       "    </tr>\n",
       "    <tr>\n",
       "      <th>Automatic</th>\n",
       "      <th></th>\n",
       "      <th></th>\n",
       "    </tr>\n",
       "  </thead>\n",
       "  <tbody>\n",
       "    <tr>\n",
       "      <th>0</th>\n",
       "      <td>438</td>\n",
       "      <td>918</td>\n",
       "    </tr>\n",
       "    <tr>\n",
       "      <th>1</th>\n",
       "      <td>29</td>\n",
       "      <td>51</td>\n",
       "    </tr>\n",
       "  </tbody>\n",
       "</table>\n",
       "</div>"
      ],
      "text/plain": [
       "MetColor     0    1\n",
       "Automatic          \n",
       "0          438  918\n",
       "1           29   51"
      ]
     },
     "execution_count": 30,
     "metadata": {},
     "output_type": "execute_result"
    }
   ],
   "source": [
    "# Cross Tab of Automatic and MetColor\n",
    "pd.crosstab(carsales.Automatic,carsales.MetColor)"
   ]
  },
  {
   "cell_type": "code",
   "execution_count": 31,
   "id": "45681143",
   "metadata": {},
   "outputs": [],
   "source": [
    "# Exploratory Data Analysis - Data Aggregation \n",
    "# Aggregating Data based on conditions\n",
    "# groupby() function is used\n",
    "\n",
    "# dfname.columnname.groupby(dfname.columnname).statisticalfunction()\n",
    "\n",
    "# Left side of groupby is Numerical Variable\n",
    "# Rightside of groupby within () is Categorical Variable\n",
    "# Statistical Function like mean(),median(),std(),skew(),min(),etc.\n",
    "# must be specified."
   ]
  },
  {
   "cell_type": "code",
   "execution_count": 32,
   "id": "fb9d9761",
   "metadata": {},
   "outputs": [
    {
     "data": {
      "text/plain": [
       "FuelType\n",
       "CNG        9421.176471\n",
       "Diesel    11294.554839\n",
       "Petrol    10679.310127\n",
       "Name: Price, dtype: float64"
      ]
     },
     "execution_count": 32,
     "metadata": {},
     "output_type": "execute_result"
    }
   ],
   "source": [
    "# What is the Average Price of different FuelType cars?\n",
    "carsales.Price.groupby(carsales.FuelType).mean()"
   ]
  },
  {
   "cell_type": "code",
   "execution_count": 33,
   "id": "1f9c58a4",
   "metadata": {},
   "outputs": [
    {
     "data": {
      "text/plain": [
       "FuelType\n",
       "CNG       56.352941\n",
       "Diesel    50.722581\n",
       "Petrol    56.582278\n",
       "Name: Age, dtype: float64"
      ]
     },
     "execution_count": 33,
     "metadata": {},
     "output_type": "execute_result"
    }
   ],
   "source": [
    "# What is the Average Age of different FuelType cars?\n",
    "carsales.Age.groupby(carsales.FuelType).mean()"
   ]
  },
  {
   "cell_type": "code",
   "execution_count": 34,
   "id": "0988ca6a",
   "metadata": {},
   "outputs": [
    {
     "data": {
      "text/plain": [
       "Automatic\n",
       "0    69278.695428\n",
       "1    55898.125000\n",
       "Name: KM, dtype: float64"
      ]
     },
     "execution_count": 34,
     "metadata": {},
     "output_type": "execute_result"
    }
   ],
   "source": [
    "# What is the Average KM of different Automatic cars?\n",
    "carsales.KM.groupby(carsales.Automatic).mean()"
   ]
  },
  {
   "cell_type": "code",
   "execution_count": 35,
   "id": "541a00f7",
   "metadata": {},
   "outputs": [
    {
     "data": {
      "text/plain": [
       "Automatic\n",
       "0    9900.0\n",
       "1    9950.0\n",
       "Name: Price, dtype: float64"
      ]
     },
     "execution_count": 35,
     "metadata": {},
     "output_type": "execute_result"
    }
   ],
   "source": [
    "# What is Median Price of different Automatic Cars?\n",
    "carsales.Price.groupby(carsales.Automatic).median()"
   ]
  },
  {
   "cell_type": "code",
   "execution_count": 36,
   "id": "227fb4bb",
   "metadata": {},
   "outputs": [
    {
     "data": {
      "text/plain": [
       "Automatic\n",
       "0    55.803835\n",
       "1    58.375000\n",
       "Name: Age, dtype: float64"
      ]
     },
     "execution_count": 36,
     "metadata": {},
     "output_type": "execute_result"
    }
   ],
   "source": [
    "# What is Average Age of different Automatic cars?\n",
    "carsales.Age.groupby(carsales.Automatic).mean()"
   ]
  },
  {
   "cell_type": "code",
   "execution_count": 37,
   "id": "34242d89",
   "metadata": {},
   "outputs": [],
   "source": [
    "# Hypothesis Testing - Comparision of Means/Averages of 2 or more than 2 levels/groups\n",
    "# /classes.\n",
    "# Parametric Tests assume Numeric Variable to be close to Normal Distribution.\n",
    "\n",
    "# Different Types of Tests\n",
    "# Variable 1 Numeric and Variable 2 Categorical with exactly 2 levels/groups/classes\n",
    "# 2 Sample Independent T test is  conducted.\n",
    "# T Test is conducted when sample size is small(<30) but also conducted with large\n",
    "# sample when population standard deviation is not Known\n",
    "\n",
    "# If population standard deviation is known then Z Test 2 Sample for means must be\n",
    "# conducted\n",
    "\n",
    "# Variable 1 Numeric and Variable 2 Categorical with more than 2 levels/groups/classes\n",
    "# Anova Single Factor is  conducted\n",
    "\n",
    "# Process of Conducting Hypothesis Testing in Python\n",
    "# 1) Groupby() - mean()& var() - Fundamental Assumption of Hypothesis Testing is Means\n",
    "# /Averages must be diffefent\n",
    "# 2) Frame Null and Alternate Hypothesis\n",
    "# 3) Split Data into as many levels/groups/classes\n",
    "# 4) Conduct Test and interpret based on p-value\n",
    "\n",
    "# Interpreatation\n",
    "# p-value less than 0.05, Reject Null Hypothesis\n",
    "# p-value greater than 0.05, Fail to Reject Null Hypothesis\n",
    "\n",
    "# 0.05 means 5% Alpha(probable error rate) & 95% Confidence level"
   ]
  },
  {
   "cell_type": "code",
   "execution_count": 38,
   "id": "9fb512b1-a3e0-4d1c-9cc1-bf072c95b6f6",
   "metadata": {},
   "outputs": [
    {
     "data": {
      "text/plain": [
       "Automatic\n",
       "0    10701.69174\n",
       "1    11224.62500\n",
       "Name: Price, dtype: float64"
      ]
     },
     "execution_count": 38,
     "metadata": {},
     "output_type": "execute_result"
    }
   ],
   "source": [
    "# Test Null Average Price of different Automatic Cars is equal\n",
    "carsales.Price.groupby(carsales.Automatic).mean()\n",
    "# Since there are exactly 2 levels/groups/classes - 2 Sample Independent T test"
   ]
  },
  {
   "cell_type": "code",
   "execution_count": 39,
   "id": "85417bbb-68fb-4264-9ec5-e5a6ab012400",
   "metadata": {},
   "outputs": [
    {
     "data": {
      "text/plain": [
       "Automatic\n",
       "0    1.314512e+07\n",
       "1    1.322715e+07\n",
       "Name: Price, dtype: float64"
      ]
     },
     "execution_count": 39,
     "metadata": {},
     "output_type": "execute_result"
    }
   ],
   "source": [
    "carsales.Price.groupby(carsales.Automatic).var() # 2 Sample Independent T test assuming\n",
    "# Unequal Variances"
   ]
  },
  {
   "cell_type": "code",
   "execution_count": 40,
   "id": "90aa66d7-0725-41a7-bd48-7de4fb3b9992",
   "metadata": {},
   "outputs": [],
   "source": [
    "# Frame Null & Alternate Hypothesis \n",
    "# Null - There is no Significant difference in Average Price of Automatic 0 & 1 Cars\n",
    "# Alt - There is Significant difference in Average Price of Automatic 0 & 1 Cars"
   ]
  },
  {
   "cell_type": "code",
   "execution_count": 41,
   "id": "208c3e05-c477-42a3-8c0e-996d4a7aeec6",
   "metadata": {},
   "outputs": [],
   "source": [
    "# Split Data\n",
    "auto=carsales[carsales.Automatic==1]\n",
    "manual=carsales[carsales.Automatic==0]"
   ]
  },
  {
   "cell_type": "code",
   "execution_count": 42,
   "id": "073f568f-1b6b-4f1e-8352-ed53f6ed20c9",
   "metadata": {},
   "outputs": [],
   "source": [
    "from scipy.stats import ttest_ind"
   ]
  },
  {
   "cell_type": "code",
   "execution_count": 43,
   "id": "6b68e261-0f66-46fd-9fb8-745874e4f677",
   "metadata": {},
   "outputs": [
    {
     "data": {
      "text/plain": [
       "TtestResult(statistic=1.249930314314651, pvalue=0.21461957865398504, df=88.51755749470243)"
      ]
     },
     "execution_count": 43,
     "metadata": {},
     "output_type": "execute_result"
    }
   ],
   "source": [
    "ttest_ind(auto.Price,manual.Price,equal_var=False)\n",
    "# Since pvalue=0.214619 is greater than 0.05, Fail to Reject Null Hypothesis\n",
    "# Difference in Means is not Statistically Significant"
   ]
  },
  {
   "cell_type": "code",
   "execution_count": 44,
   "id": "0c4d72c0-4409-4021-b992-06bb35c41bcd",
   "metadata": {},
   "outputs": [
    {
     "data": {
      "text/plain": [
       "Automatic\n",
       "0    55.803835\n",
       "1    58.375000\n",
       "Name: Age, dtype: float64"
      ]
     },
     "execution_count": 44,
     "metadata": {},
     "output_type": "execute_result"
    }
   ],
   "source": [
    "# Test Null Average Age of different Automatic Cars equal\n",
    "# groupby() - mean & var, Frame Null & Alt, Conduct Test and interpret\n",
    "carsales.Age.groupby(carsales.Automatic).mean()"
   ]
  },
  {
   "cell_type": "code",
   "execution_count": 45,
   "id": "936ee758-0e0d-45f1-80dd-73aa0db362c9",
   "metadata": {},
   "outputs": [
    {
     "data": {
      "text/plain": [
       "Automatic\n",
       "0    344.754111\n",
       "1    364.693038\n",
       "Name: Age, dtype: float64"
      ]
     },
     "execution_count": 45,
     "metadata": {},
     "output_type": "execute_result"
    }
   ],
   "source": [
    "carsales.Age.groupby(carsales.Automatic).var()"
   ]
  },
  {
   "cell_type": "code",
   "execution_count": 46,
   "id": "7dd1a612-60aa-4d17-9a2c-4d16c6ae7c71",
   "metadata": {},
   "outputs": [],
   "source": [
    "# Frame Null & Alternate Hypothesis \n",
    "# Null - There is no Significant difference in Average Age of Automatic 0 & 1 Cars\n",
    "# Alt - There is Significant difference in Average Age of Automatic 0 & 1 Cars"
   ]
  },
  {
   "cell_type": "code",
   "execution_count": 47,
   "id": "0954b9ce-4b64-44ce-975f-33c1067a461e",
   "metadata": {},
   "outputs": [
    {
     "data": {
      "text/plain": [
       "TtestResult(statistic=1.171996382758743, pvalue=0.24436023798492446, df=88.04165618426943)"
      ]
     },
     "execution_count": 47,
     "metadata": {},
     "output_type": "execute_result"
    }
   ],
   "source": [
    "ttest_ind(auto.Age,manual.Age,equal_var=False)\n",
    "# Since pvalue=0.24436 is greater than 0.05, Fail to Reject Null\n",
    "# Difference in Means is not Statistically Significant"
   ]
  },
  {
   "cell_type": "code",
   "execution_count": 48,
   "id": "2d37b19a-1894-448c-81db-2da983ea8b4e",
   "metadata": {},
   "outputs": [
    {
     "data": {
      "text/plain": [
       "FuelType\n",
       "CNG        9421.176471\n",
       "Diesel    11294.554839\n",
       "Petrol    10679.310127\n",
       "Name: Price, dtype: float64"
      ]
     },
     "execution_count": 48,
     "metadata": {},
     "output_type": "execute_result"
    }
   ],
   "source": [
    "# Anoval Single Factor - When Categorical Variable has more than 2 levels/groups/classes\n",
    "\n",
    "# Test Null Average Price of different FuelType Cars equal\n",
    "carsales.Price.groupby(carsales.FuelType).mean()\n",
    "\n",
    "# Since more than 2 levels/groups/classes - Anova Single Factor"
   ]
  },
  {
   "cell_type": "code",
   "execution_count": 49,
   "id": "7e05da0b-34e6-4eb3-82f4-62fc7065438d",
   "metadata": {},
   "outputs": [],
   "source": [
    "# Frame Null & Alternate Hypothesis\n",
    "# Null - There is no Significant difference in Average Price of different FuelType Cars\n",
    "# Alt - There is Significant difference in Average Price of different FuelType Cars"
   ]
  },
  {
   "cell_type": "code",
   "execution_count": 50,
   "id": "4a19fdff-eb46-4ae4-a948-a9dcc6bab1fa",
   "metadata": {},
   "outputs": [],
   "source": [
    "# Split Data\n",
    "cng=carsales[carsales.FuelType==\"CNG\"]\n",
    "diesel=carsales[carsales.FuelType==\"Diesel\"]\n",
    "petrol=carsales[carsales.FuelType==\"Petrol\"]"
   ]
  },
  {
   "cell_type": "code",
   "execution_count": 51,
   "id": "99965ed7-bff9-4437-ad0d-e0b958b195b4",
   "metadata": {},
   "outputs": [],
   "source": [
    "from scipy.stats import f_oneway"
   ]
  },
  {
   "cell_type": "code",
   "execution_count": 52,
   "id": "eda21877-0a09-4199-9b5b-463b899cf262",
   "metadata": {},
   "outputs": [
    {
     "data": {
      "text/plain": [
       "F_onewayResult(statistic=3.1171479782774187, pvalue=0.044583699346313316)"
      ]
     },
     "execution_count": 52,
     "metadata": {},
     "output_type": "execute_result"
    }
   ],
   "source": [
    "f_oneway(cng.Price,diesel.Price,petrol.Price)\n",
    "# Since pvalue=0.04458 is less than 0.05, Reject Null Hypothesis"
   ]
  },
  {
   "cell_type": "code",
   "execution_count": 53,
   "id": "61747209-5bea-4a03-89b2-38c6437c657f",
   "metadata": {},
   "outputs": [
    {
     "data": {
      "text/plain": [
       "FuelType\n",
       "CNG       117865.588235\n",
       "Diesel    111977.580645\n",
       "Petrol     62542.342563\n",
       "Name: KM, dtype: float64"
      ]
     },
     "execution_count": 53,
     "metadata": {},
     "output_type": "execute_result"
    }
   ],
   "source": [
    "# Test Null Average KM for different FuelType cars is equal\n",
    "carsales.KM.groupby(carsales.FuelType).mean()"
   ]
  },
  {
   "cell_type": "code",
   "execution_count": 54,
   "id": "be989300-6215-4aa2-8c87-8a88a040d4da",
   "metadata": {},
   "outputs": [],
   "source": [
    "# Frame Null & Alternate Hypothesis\n",
    "# Null - There is no Significant difference in Average KM of different FuelType Cars\n",
    "# Alt - There is Significant difference in Average KM of different FuelType Cars"
   ]
  },
  {
   "cell_type": "code",
   "execution_count": 55,
   "id": "7f5079a5-f958-4560-a5de-eb07c3641830",
   "metadata": {},
   "outputs": [
    {
     "data": {
      "text/plain": [
       "F_onewayResult(statistic=165.77002224437942, pvalue=1.7334538250606014e-65)"
      ]
     },
     "execution_count": 55,
     "metadata": {},
     "output_type": "execute_result"
    }
   ],
   "source": [
    "f_oneway(cng.KM,diesel.KM,petrol.KM)\n",
    "# Since pvalue=1.7334538250606014e-65 is less than 0.05, Reject Null"
   ]
  },
  {
   "cell_type": "code",
   "execution_count": 56,
   "id": "86af44fb-f396-4237-967f-a2ca3b5af3e1",
   "metadata": {},
   "outputs": [],
   "source": [
    "# Non Parametric Test - Assumes No Distribution, which means used when numeric variable\n",
    "# not normally distributed\n",
    "\n",
    "# Mann-Whitney U test is similar to 2 Sample Independent T test where categorical \n",
    "# variable have exactly 2 levels/groups/classes"
   ]
  },
  {
   "cell_type": "code",
   "execution_count": 57,
   "id": "d795c2f7-6aa5-4918-be01-5365129ac5fa",
   "metadata": {},
   "outputs": [
    {
     "data": {
      "text/plain": [
       "MetColor\n",
       "0    9750.0\n",
       "1    9950.0\n",
       "Name: Price, dtype: float64"
      ]
     },
     "execution_count": 57,
     "metadata": {},
     "output_type": "execute_result"
    }
   ],
   "source": [
    "carsales.Price.groupby(carsales.MetColor).median()"
   ]
  },
  {
   "cell_type": "code",
   "execution_count": 58,
   "id": "9daf4140-d565-4b81-b6fd-75367106a0e7",
   "metadata": {},
   "outputs": [],
   "source": [
    "# Split Data into 0 & 1 or No & Yes\n",
    "metC0=carsales[carsales.MetColor==0]\n",
    "metC1=carsales[carsales.MetColor==1]"
   ]
  },
  {
   "cell_type": "code",
   "execution_count": 59,
   "id": "21cb1a1f-d985-4106-8667-5700aa94d58d",
   "metadata": {},
   "outputs": [],
   "source": [
    "# Null - There is no significant difference in Median Price of MetColor 0 & 1\n",
    "# Alt - There is significant difference in Median Price of MetColor 0 & 1"
   ]
  },
  {
   "cell_type": "code",
   "execution_count": 60,
   "id": "77b8595d-9e30-4f85-b1e5-d46f2f1d0725",
   "metadata": {},
   "outputs": [],
   "source": [
    "from scipy.stats import mannwhitneyu"
   ]
  },
  {
   "cell_type": "code",
   "execution_count": 61,
   "id": "d6827ede-a7a3-40b0-9a75-50690c40284a",
   "metadata": {},
   "outputs": [],
   "source": [
    "stat,p_value=mannwhitneyu(metC0.Price,metC1.Price,method=\"asymptotic\")\n",
    "# method=\"asymptotic\" is correction for Ranks that have ties(Same Ranks)"
   ]
  },
  {
   "cell_type": "code",
   "execution_count": 62,
   "id": "d40f3a16-e404-41ff-9686-28385dd75a8a",
   "metadata": {},
   "outputs": [
    {
     "name": "stdout",
     "output_type": "stream",
     "text": [
      "(199481.5, 0.0002730131442838532)\n"
     ]
    }
   ],
   "source": [
    "print((stat,p_value)) # Since p-value-0.0002730 less than 0.05, Reject Null"
   ]
  },
  {
   "cell_type": "code",
   "execution_count": 63,
   "id": "d0a01046-75e5-4727-8a31-d455d482aad4",
   "metadata": {},
   "outputs": [
    {
     "data": {
      "text/plain": [
       "Automatic\n",
       "0    9900.0\n",
       "1    9950.0\n",
       "Name: Price, dtype: float64"
      ]
     },
     "execution_count": 63,
     "metadata": {},
     "output_type": "execute_result"
    }
   ],
   "source": [
    "carsales.Price.groupby(carsales.Automatic).median()"
   ]
  },
  {
   "cell_type": "code",
   "execution_count": 64,
   "id": "292f750d-b3d2-4c07-b5d6-82c6428aaf2e",
   "metadata": {},
   "outputs": [],
   "source": [
    "# Test Null Median Price of Automatic 0 & 1 Equal\n",
    "\n",
    "# Null - There is no Significant difference in Median Price of Automatic 0 & 1 Cars\n",
    "# Alt - There is Significant difference in Median Price of Automatic 0 & 1 Cars"
   ]
  },
  {
   "cell_type": "code",
   "execution_count": 65,
   "id": "79ede243-50be-4ba0-8407-cccc2e7d2129",
   "metadata": {},
   "outputs": [],
   "source": [
    "stat,p_value=mannwhitneyu(auto.Price,manual.Price,method=\"asymptotic\")"
   ]
  },
  {
   "cell_type": "code",
   "execution_count": 66,
   "id": "352afd2d-f823-4675-8b6a-626f9952c96c",
   "metadata": {},
   "outputs": [
    {
     "name": "stdout",
     "output_type": "stream",
     "text": [
      "(60045.5, 0.10709173281979183)\n"
     ]
    }
   ],
   "source": [
    "print((stat,p_value)) # Since p-value- 0.107091 is greater than 0.05, Fail to Reject Null"
   ]
  },
  {
   "cell_type": "code",
   "execution_count": 67,
   "id": "f4d331f1-b030-45ec-96c4-2e477fc206af",
   "metadata": {},
   "outputs": [
    {
     "data": {
      "text/plain": [
       "FuelType\n",
       "CNG       8950.0\n",
       "Diesel    8950.0\n",
       "Petrol    9940.0\n",
       "Name: Price, dtype: float64"
      ]
     },
     "execution_count": 67,
     "metadata": {},
     "output_type": "execute_result"
    }
   ],
   "source": [
    "carsales.Price.groupby(carsales.FuelType).median()"
   ]
  },
  {
   "cell_type": "code",
   "execution_count": 68,
   "id": "1e7d9907-c262-4863-962b-04305ff7ea24",
   "metadata": {},
   "outputs": [],
   "source": [
    "# Kruskal-Wallis Test\n",
    "\n",
    "# Null - There is no Significant difference in Median Price of different FuelType Cars\n",
    "# Alt- There is Significant difference in Median Price of different FuelType Cars"
   ]
  },
  {
   "cell_type": "code",
   "execution_count": 69,
   "id": "14a01250-95b5-4ec9-b2d9-0a7868441a57",
   "metadata": {},
   "outputs": [],
   "source": [
    "from scipy.stats import kruskal"
   ]
  },
  {
   "cell_type": "code",
   "execution_count": 70,
   "id": "85d9e0b3-8cf8-4e08-8d01-3db77e82d3ff",
   "metadata": {},
   "outputs": [
    {
     "data": {
      "text/plain": [
       "KruskalResult(statistic=4.011165914578559, pvalue=0.13458181737153163)"
      ]
     },
     "execution_count": 70,
     "metadata": {},
     "output_type": "execute_result"
    }
   ],
   "source": [
    "kruskal(cng.Price,diesel.Price,petrol.Price)\n",
    "# Since pvalue=0.13458 is greater than 0.05, Fail to Reject Null"
   ]
  },
  {
   "cell_type": "code",
   "execution_count": 71,
   "id": "6979c38e-cc1b-4eba-bf3e-4caeab8d81cf",
   "metadata": {},
   "outputs": [],
   "source": [
    "# Non Parametric Test - Chi Square Test of Independence used when both variables are\n",
    "# Non Numeric and Categorical\n",
    "# Input of this test is Cross Tabulation\n",
    "# Cross Tabulation is frequency table of 2 Non numeric Categorical variables.\n",
    "\n",
    "# Null - There is No Association between both variables\n",
    "# Alt - There is Association between both variables"
   ]
  },
  {
   "cell_type": "code",
   "execution_count": 72,
   "id": "50c1f16d-4e5f-4b4f-8dcc-d8fda88a537d",
   "metadata": {},
   "outputs": [
    {
     "data": {
      "text/html": [
       "<div>\n",
       "<style scoped>\n",
       "    .dataframe tbody tr th:only-of-type {\n",
       "        vertical-align: middle;\n",
       "    }\n",
       "\n",
       "    .dataframe tbody tr th {\n",
       "        vertical-align: top;\n",
       "    }\n",
       "\n",
       "    .dataframe thead th {\n",
       "        text-align: right;\n",
       "    }\n",
       "</style>\n",
       "<table border=\"1\" class=\"dataframe\">\n",
       "  <thead>\n",
       "    <tr style=\"text-align: right;\">\n",
       "      <th>FuelType</th>\n",
       "      <th>CNG</th>\n",
       "      <th>Diesel</th>\n",
       "      <th>Petrol</th>\n",
       "    </tr>\n",
       "    <tr>\n",
       "      <th>Automatic</th>\n",
       "      <th></th>\n",
       "      <th></th>\n",
       "      <th></th>\n",
       "    </tr>\n",
       "  </thead>\n",
       "  <tbody>\n",
       "    <tr>\n",
       "      <th>0</th>\n",
       "      <td>16</td>\n",
       "      <td>155</td>\n",
       "      <td>1185</td>\n",
       "    </tr>\n",
       "    <tr>\n",
       "      <th>1</th>\n",
       "      <td>1</td>\n",
       "      <td>0</td>\n",
       "      <td>79</td>\n",
       "    </tr>\n",
       "  </tbody>\n",
       "</table>\n",
       "</div>"
      ],
      "text/plain": [
       "FuelType   CNG  Diesel  Petrol\n",
       "Automatic                     \n",
       "0           16     155    1185\n",
       "1            1       0      79"
      ]
     },
     "execution_count": 72,
     "metadata": {},
     "output_type": "execute_result"
    }
   ],
   "source": [
    "# Test Null No Association between FuelType & Automatic\n",
    "pd.crosstab(carsales.Automatic,carsales.FuelType)"
   ]
  },
  {
   "cell_type": "code",
   "execution_count": 73,
   "id": "3c9f672c-f1ff-412b-814f-0e7332542bfd",
   "metadata": {},
   "outputs": [],
   "source": [
    "from scipy.stats import chi2_contingency"
   ]
  },
  {
   "cell_type": "code",
   "execution_count": 74,
   "id": "086c7983-090a-422e-8066-a41ff2f3df2e",
   "metadata": {},
   "outputs": [
    {
     "data": {
      "text/plain": [
       "Chi2ContingencyResult(statistic=10.255335220371332, pvalue=0.005930376304755173, dof=2, expected_freq=array([[1.60529248e+01, 1.46364903e+02, 1.19358217e+03],\n",
       "       [9.47075209e-01, 8.63509749e+00, 7.04178273e+01]]))"
      ]
     },
     "execution_count": 74,
     "metadata": {},
     "output_type": "execute_result"
    }
   ],
   "source": [
    "chi2_contingency(pd.crosstab(carsales.Automatic,carsales.FuelType))\n",
    "# Since pvalue=0.00593 is less than 0.05, Reject Null Hypothesis"
   ]
  },
  {
   "cell_type": "code",
   "execution_count": 75,
   "id": "e120f7a5-4816-4d4f-83cb-6e6763abf8eb",
   "metadata": {},
   "outputs": [
    {
     "data": {
      "text/html": [
       "<div>\n",
       "<style scoped>\n",
       "    .dataframe tbody tr th:only-of-type {\n",
       "        vertical-align: middle;\n",
       "    }\n",
       "\n",
       "    .dataframe tbody tr th {\n",
       "        vertical-align: top;\n",
       "    }\n",
       "\n",
       "    .dataframe thead th {\n",
       "        text-align: right;\n",
       "    }\n",
       "</style>\n",
       "<table border=\"1\" class=\"dataframe\">\n",
       "  <thead>\n",
       "    <tr style=\"text-align: right;\">\n",
       "      <th>FuelType</th>\n",
       "      <th>CNG</th>\n",
       "      <th>Diesel</th>\n",
       "      <th>Petrol</th>\n",
       "    </tr>\n",
       "    <tr>\n",
       "      <th>MetColor</th>\n",
       "      <th></th>\n",
       "      <th></th>\n",
       "      <th></th>\n",
       "    </tr>\n",
       "  </thead>\n",
       "  <tbody>\n",
       "    <tr>\n",
       "      <th>0</th>\n",
       "      <td>4</td>\n",
       "      <td>53</td>\n",
       "      <td>410</td>\n",
       "    </tr>\n",
       "    <tr>\n",
       "      <th>1</th>\n",
       "      <td>13</td>\n",
       "      <td>102</td>\n",
       "      <td>854</td>\n",
       "    </tr>\n",
       "  </tbody>\n",
       "</table>\n",
       "</div>"
      ],
      "text/plain": [
       "FuelType  CNG  Diesel  Petrol\n",
       "MetColor                     \n",
       "0           4      53     410\n",
       "1          13     102     854"
      ]
     },
     "execution_count": 75,
     "metadata": {},
     "output_type": "execute_result"
    }
   ],
   "source": [
    "# Test Null No Association between MetColor and FuelType\n",
    "pd.crosstab(carsales.MetColor,carsales.FuelType)"
   ]
  },
  {
   "cell_type": "code",
   "execution_count": 76,
   "id": "971fdbae-1376-4d52-92cb-4e3888c67f46",
   "metadata": {},
   "outputs": [
    {
     "data": {
      "text/plain": [
       "Chi2ContingencyResult(statistic=0.8279898095768398, pvalue=0.6610043192141939, dof=2, expected_freq=array([[  5.52855153,  50.40738162, 411.06406685],\n",
       "       [ 11.47144847, 104.59261838, 852.93593315]]))"
      ]
     },
     "execution_count": 76,
     "metadata": {},
     "output_type": "execute_result"
    }
   ],
   "source": [
    "chi2_contingency(pd.crosstab(carsales.MetColor,carsales.FuelType))\n",
    "# Since pvalue=0.6610 is greater than 0.05, Fail to Reject Null"
   ]
  },
  {
   "cell_type": "code",
   "execution_count": 77,
   "id": "6da8b265-89b8-488a-b176-35f6adeb04d8",
   "metadata": {},
   "outputs": [],
   "source": [
    "# Split Data into dependent Variable(y) & Independent Variables (X's)\n",
    "y=carsales.Price\n",
    "X=carsales[['Age','KM','HP','Weight']]"
   ]
  },
  {
   "cell_type": "code",
   "execution_count": 78,
   "id": "3e9e2658-97e9-4e02-8d02-e967cf5b6e9b",
   "metadata": {},
   "outputs": [],
   "source": [
    "# Histogram, Boxplot & Density Curve - y\n",
    "# Correlation of all variables"
   ]
  },
  {
   "cell_type": "code",
   "execution_count": 79,
   "id": "80c8f49e-a498-494b-a1e8-1d7b53053dbc",
   "metadata": {},
   "outputs": [
    {
     "data": {
      "image/png": "[encoded data removed]",
      "text/plain": [
       "<Figure size 640x480 with 3 Axes>"
      ]
     },
     "metadata": {},
     "output_type": "display_data"
    }
   ],
   "source": [
    "import seaborn as sns\n",
    "fig,ax=plt.subplots(3,1)\n",
    "sns.histplot(y,ax=ax[0])\n",
    "sns.boxplot(y,ax=ax[1],orient=\"h\")\n",
    "sns.kdeplot(y,ax=ax[2])\n",
    "plt.show()\n",
    "\n",
    "# Data not Normally Distributed has positive skewness and outliers"
   ]
  },
  {
   "cell_type": "code",
   "execution_count": 80,
   "id": "2534011a-e78b-4df5-bad6-bf1013cf5f9c",
   "metadata": {},
   "outputs": [
    {
     "data": {
      "text/plain": [
       "<Axes: >"
      ]
     },
     "execution_count": 80,
     "metadata": {},
     "output_type": "execute_result"
    },
    {
     "data": {
      "image/png": "[encoded data removed]",
      "text/plain": [
       "<Figure size 640x480 with 2 Axes>"
      ]
     },
     "metadata": {},
     "output_type": "display_data"
    }
   ],
   "source": [
    "# Correlation Analysis - for checking Multicollinearity\n",
    "sns.heatmap(carsales[['Age','KM','HP','Weight','Price']].corr(),annot=True)"
   ]
  },
  {
   "cell_type": "code",
   "execution_count": 81,
   "id": "6923979a-1342-40ed-9dd4-3e9f0b6021ff",
   "metadata": {},
   "outputs": [],
   "source": [
    "from sklearn.linear_model import LinearRegression"
   ]
  },
  {
   "cell_type": "code",
   "execution_count": 82,
   "id": "96d9a937-9b28-4510-b170-bd4aa736e01b",
   "metadata": {},
   "outputs": [],
   "source": [
    "reg=LinearRegression()"
   ]
  },
  {
   "cell_type": "code",
   "execution_count": 83,
   "id": "7a8f085e-de59-4663-93a7-9b8cb4cee877",
   "metadata": {},
   "outputs": [],
   "source": [
    "regmodel=reg.fit(X,y)"
   ]
  },
  {
   "cell_type": "code",
   "execution_count": 84,
   "id": "05b0dd72-025d-4e35-89f1-a444650f6c22",
   "metadata": {},
   "outputs": [
    {
     "data": {
      "text/plain": [
       "0.8617758687562083"
      ]
     },
     "execution_count": 84,
     "metadata": {},
     "output_type": "execute_result"
    }
   ],
   "source": [
    "regmodel.score(X,y) # R Square"
   ]
  },
  {
   "cell_type": "code",
   "execution_count": 85,
   "id": "6fc2201b-def4-47cd-8db5-e47aafc11d12",
   "metadata": {},
   "outputs": [],
   "source": [
    "pred_Price=regmodel.predict(X)"
   ]
  },
  {
   "cell_type": "code",
   "execution_count": 86,
   "id": "f01b41e1-0f5d-4738-8e3a-c4ce525441c1",
   "metadata": {},
   "outputs": [],
   "source": [
    "price_residual=y-pred_Price"
   ]
  },
  {
   "cell_type": "code",
   "execution_count": 87,
   "id": "a9005f2c-aa27-465f-9992-23814267495d",
   "metadata": {},
   "outputs": [
    {
     "data": {
      "text/plain": [
       "1347.9816495722346"
      ]
     },
     "execution_count": 87,
     "metadata": {},
     "output_type": "execute_result"
    }
   ],
   "source": [
    "np.sqrt(np.mean(np.square(price_residual)))"
   ]
  },
  {
   "cell_type": "code",
   "execution_count": 88,
   "id": "55286870-96f4-4c95-b499-5c544f883202",
   "metadata": {},
   "outputs": [
    {
     "data": {
      "text/plain": [
       "-4014.6417724511048"
      ]
     },
     "execution_count": 88,
     "metadata": {},
     "output_type": "execute_result"
    }
   ],
   "source": [
    "regmodel.intercept_"
   ]
  },
  {
   "cell_type": "code",
   "execution_count": null,
   "id": "1e59e7b3-8b85-4211-a3b5-bff86361955f",
   "metadata": {},
   "outputs": [],
   "source": []
  },
  {
   "cell_type": "code",
   "execution_count": 89,
   "id": "b1744235-c840-4854-9fc9-1582ef13c19e",
   "metadata": {},
   "outputs": [
    {
     "name": "stdout",
     "output_type": "stream",
     "text": [
      "[('Age', -122.42446915636546), ('KM', -0.019647335982491368), ('HP', 30.211926766313166), ('Weight', 18.53186766112591)]\n"
     ]
    }
   ],
   "source": [
    "print(list(zip(X.columns,regmodel.coef_)))"
   ]
  },
  {
   "cell_type": "code",
   "execution_count": null,
   "id": "385bb552-38a5-4c57-9e46-46179ad6858b",
   "metadata": {},
   "outputs": [],
   "source": []
  },
  {
   "cell_type": "code",
   "execution_count": 90,
   "id": "34b082f5-cc8f-4356-ac55-9a784dc5da39",
   "metadata": {},
   "outputs": [],
   "source": [
    "import statsmodels.api as sm"
   ]
  },
  {
   "cell_type": "code",
   "execution_count": 187,
   "id": "dce3f170-a494-4541-a400-f7edfd17eb3b",
   "metadata": {},
   "outputs": [
    {
     "data": {
      "image/png": "[encoded data removed]",
      "text/plain": [
       "<Figure size 640x480 with 1 Axes>"
      ]
     },
     "execution_count": 187,
     "metadata": {},
     "output_type": "execute_result"
    },
    {
     "data": {
      "image/png": "[encoded data removed]",
      "text/plain": [
       "<Figure size 640x480 with 1 Axes>"
      ]
     },
     "metadata": {},
     "output_type": "display_data"
    }
   ],
   "source": [
    "sm.qqplot(price_residual,line=\"r\") # q-q plot for Residual Normal Distibution"
   ]
  },
  {
   "cell_type": "code",
   "execution_count": 92,
   "id": "f44ccbf4-b502-4a86-a1ac-67326dc71515",
   "metadata": {},
   "outputs": [],
   "source": [
    "#machine Learning \n",
    "# supervised learning - complete understanding of data, know which are independent(x's) and which is independent variable(y) and also know which\n",
    "# algorithms to implement\n",
    "\n",
    "#regressipn algtm\n",
    "# - are used when dependent variable y is numerical continuous, closer to normal distribution with minimum outliers and no missing values\n",
    "\n",
    "# multiple linear regression is base regression algorithm. MLR explains linear relationship(straight line relationship)between\n",
    "# a dependent varible(y) and multiple independent variables(X's)\n",
    "# MLR is an equation\n",
    "#y=B0+B1X1+B3X3............+BnXn+Et\n",
    "# B1,B2,B3,B4...Bn -coefficients\n",
    "#X1,X2,X3,X4...Xn- Independent variables\n",
    "#Et- error term or residual=Actual value-predicted value\n",
    "#MLR is a paramewtric algorithm. paramatric algorithm have many assumptions that need to be met else algoritrhm fails and error very high\n",
    "#Assumptions of MLR - pre model asuumptions\n",
    "#1)dependent variable(y) mustb be in numerical\n",
    "#2) independent variable which are can both numerical and non numeric categorical\n",
    "#3) multicollinearity- means very strong correlation(>0.95)\n",
    "# amoung independentvariables. multicollinearity leads to overfitting problem.\n",
    "#if multicollinearity is found do not include both variables,choose one amoung them\n",
    "#multicollinearity is checked using correlation analysis or VIF(variance inflation factor). VIF>4multicollinearity is present\n",
    "#4)there has to be alogical relationship between dependent variable(y) and independent variable(X's)\n",
    "# 5) dependent bvariable depends on independent variables but not vice-versa yis depenent on X'sbutX's do not depend on y\n",
    "# 6)sample size required is minimum 20 obvs per variable\n",
    "#\n",
    "# plot model assumptions- residuals\n",
    "#7)residuals mustbe normally distributed.check using q-q plot\n",
    "#8)residuals must be homoscedastic in nature. check using scatter plot\n",
    "#interpretation of output\n",
    "# 1)adjusted R square must be 0.60 to 0.95.adjusted R square is amount of variance accuring in dependent variable(y) caused by the model\n",
    "#lessthan 0.60- Underfitting\n",
    "#morethan 0.95- Overfitting\n",
    "#3)independent variable must be lessthano.0.05\n",
    "#Null-Independent variable is Insignificant\n",
    "#Alt-Independent variable is significan\n",
    "#If some independent variables have p-value greater than 0.05, remove those variables and rebuild the model\n",
    "\n",
    "#python sklearn output\n",
    "#1)R squaree must be btw 0.60 andd 0.95. R squre is amount if variance occuring in dependent variable explained\n"
   ]
  },
  {
   "cell_type": "code",
   "execution_count": 93,
   "id": "ce31a298-6511-453a-b3c0-d921bf45d53c",
   "metadata": {},
   "outputs": [],
   "source": [
    "# Multiple Linear regression uses a method called ordinary least square (OLS Method)\n",
    "# OLS method fits a straight line among residuals in such a manner that distance between line and residuals is minimal\n",
    "#below is OLS method matrix foemulation"
   ]
  }
 ],
 "metadata": {
  "kernelspec": {
   "display_name": "Python 3 (ipykernel)",
   "language": "python",
   "name": "python3"
  },
  "language_info": {
   "codemirror_mode": {
    "name": "ipython",
    "version": 3
   },
   "file_extension": ".py",
   "mimetype": "text/x-python",
   "name": "python",
   "nbconvert_exporter": "python",
   "pygments_lexer": "ipython3",
   "version": "3.11.7"
  }
 },
 "nbformat": 4,
 "nbformat_minor": 5
}
